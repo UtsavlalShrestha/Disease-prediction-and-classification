{
 "cells": [
  {
   "cell_type": "code",
   "execution_count": 10,
   "id": "946ffd4b-308a-4800-85bb-ba265145fcbf",
   "metadata": {},
   "outputs": [],
   "source": [
    "import pandas as pd\n",
    "import numpy as np\n",
    "from sklearn.model_selection import train_test_split\n",
    "from sklearn.tree import DecisionTreeClassifier\n",
    "# from sklearn.ensemble import RandomForestClassifier\n",
    "from sklearn.naive_bayes import GaussianNB\n",
    "from sklearn.metrics import classification_report, confusion_matrix, accuracy_score, precision_score\n",
    "import seaborn as sns\n",
    "import matplotlib.pyplot as plt\n",
    "\n"
   ]
  },
  {
   "cell_type": "code",
   "execution_count": 11,
   "id": "6798f6ee-86bc-4967-9da0-508a38f934c0",
   "metadata": {},
   "outputs": [],
   "source": [
    "df = pd.read_csv(r\"C:\\Users\\shres\\OneDrive\\Desktop\\disease\\Final_Augmented_dataset_Diseases_and_Symptoms.csv\")"
   ]
  },
  {
   "cell_type": "code",
   "execution_count": 12,
   "id": "cabbaa68-8f55-4ef5-b849-bd75fe06937a",
   "metadata": {},
   "outputs": [
    {
     "data": {
      "text/html": [
       "<div>\n",
       "<style scoped>\n",
       "    .dataframe tbody tr th:only-of-type {\n",
       "        vertical-align: middle;\n",
       "    }\n",
       "\n",
       "    .dataframe tbody tr th {\n",
       "        vertical-align: top;\n",
       "    }\n",
       "\n",
       "    .dataframe thead th {\n",
       "        text-align: right;\n",
       "    }\n",
       "</style>\n",
       "<table border=\"1\" class=\"dataframe\">\n",
       "  <thead>\n",
       "    <tr style=\"text-align: right;\">\n",
       "      <th></th>\n",
       "      <th>diseases</th>\n",
       "      <th>anxiety and nervousness</th>\n",
       "      <th>depression</th>\n",
       "      <th>shortness of breath</th>\n",
       "      <th>depressive or psychotic symptoms</th>\n",
       "      <th>sharp chest pain</th>\n",
       "      <th>dizziness</th>\n",
       "      <th>insomnia</th>\n",
       "      <th>abnormal involuntary movements</th>\n",
       "      <th>chest tightness</th>\n",
       "      <th>...</th>\n",
       "      <th>stuttering or stammering</th>\n",
       "      <th>problems with orgasm</th>\n",
       "      <th>nose deformity</th>\n",
       "      <th>lump over jaw</th>\n",
       "      <th>sore in nose</th>\n",
       "      <th>hip weakness</th>\n",
       "      <th>back swelling</th>\n",
       "      <th>ankle stiffness or tightness</th>\n",
       "      <th>ankle weakness</th>\n",
       "      <th>neck weakness</th>\n",
       "    </tr>\n",
       "  </thead>\n",
       "  <tbody>\n",
       "    <tr>\n",
       "      <th>0</th>\n",
       "      <td>panic disorder</td>\n",
       "      <td>1</td>\n",
       "      <td>0</td>\n",
       "      <td>1</td>\n",
       "      <td>1</td>\n",
       "      <td>0</td>\n",
       "      <td>0</td>\n",
       "      <td>0</td>\n",
       "      <td>0</td>\n",
       "      <td>1</td>\n",
       "      <td>...</td>\n",
       "      <td>0</td>\n",
       "      <td>0</td>\n",
       "      <td>0</td>\n",
       "      <td>0</td>\n",
       "      <td>0</td>\n",
       "      <td>0</td>\n",
       "      <td>0</td>\n",
       "      <td>0</td>\n",
       "      <td>0</td>\n",
       "      <td>0</td>\n",
       "    </tr>\n",
       "    <tr>\n",
       "      <th>1</th>\n",
       "      <td>panic disorder</td>\n",
       "      <td>0</td>\n",
       "      <td>0</td>\n",
       "      <td>1</td>\n",
       "      <td>1</td>\n",
       "      <td>0</td>\n",
       "      <td>1</td>\n",
       "      <td>1</td>\n",
       "      <td>0</td>\n",
       "      <td>0</td>\n",
       "      <td>...</td>\n",
       "      <td>0</td>\n",
       "      <td>0</td>\n",
       "      <td>0</td>\n",
       "      <td>0</td>\n",
       "      <td>0</td>\n",
       "      <td>0</td>\n",
       "      <td>0</td>\n",
       "      <td>0</td>\n",
       "      <td>0</td>\n",
       "      <td>0</td>\n",
       "    </tr>\n",
       "    <tr>\n",
       "      <th>2</th>\n",
       "      <td>panic disorder</td>\n",
       "      <td>1</td>\n",
       "      <td>1</td>\n",
       "      <td>1</td>\n",
       "      <td>1</td>\n",
       "      <td>0</td>\n",
       "      <td>1</td>\n",
       "      <td>1</td>\n",
       "      <td>0</td>\n",
       "      <td>0</td>\n",
       "      <td>...</td>\n",
       "      <td>0</td>\n",
       "      <td>0</td>\n",
       "      <td>0</td>\n",
       "      <td>0</td>\n",
       "      <td>0</td>\n",
       "      <td>0</td>\n",
       "      <td>0</td>\n",
       "      <td>0</td>\n",
       "      <td>0</td>\n",
       "      <td>0</td>\n",
       "    </tr>\n",
       "    <tr>\n",
       "      <th>3</th>\n",
       "      <td>panic disorder</td>\n",
       "      <td>1</td>\n",
       "      <td>0</td>\n",
       "      <td>0</td>\n",
       "      <td>1</td>\n",
       "      <td>0</td>\n",
       "      <td>1</td>\n",
       "      <td>1</td>\n",
       "      <td>1</td>\n",
       "      <td>0</td>\n",
       "      <td>...</td>\n",
       "      <td>0</td>\n",
       "      <td>0</td>\n",
       "      <td>0</td>\n",
       "      <td>0</td>\n",
       "      <td>0</td>\n",
       "      <td>0</td>\n",
       "      <td>0</td>\n",
       "      <td>0</td>\n",
       "      <td>0</td>\n",
       "      <td>0</td>\n",
       "    </tr>\n",
       "    <tr>\n",
       "      <th>4</th>\n",
       "      <td>panic disorder</td>\n",
       "      <td>1</td>\n",
       "      <td>1</td>\n",
       "      <td>0</td>\n",
       "      <td>0</td>\n",
       "      <td>0</td>\n",
       "      <td>0</td>\n",
       "      <td>1</td>\n",
       "      <td>1</td>\n",
       "      <td>1</td>\n",
       "      <td>...</td>\n",
       "      <td>0</td>\n",
       "      <td>0</td>\n",
       "      <td>0</td>\n",
       "      <td>0</td>\n",
       "      <td>0</td>\n",
       "      <td>0</td>\n",
       "      <td>0</td>\n",
       "      <td>0</td>\n",
       "      <td>0</td>\n",
       "      <td>0</td>\n",
       "    </tr>\n",
       "  </tbody>\n",
       "</table>\n",
       "<p>5 rows × 378 columns</p>\n",
       "</div>"
      ],
      "text/plain": [
       "         diseases  anxiety and nervousness  depression  shortness of breath  \\\n",
       "0  panic disorder                        1           0                    1   \n",
       "1  panic disorder                        0           0                    1   \n",
       "2  panic disorder                        1           1                    1   \n",
       "3  panic disorder                        1           0                    0   \n",
       "4  panic disorder                        1           1                    0   \n",
       "\n",
       "   depressive or psychotic symptoms  sharp chest pain  dizziness  insomnia  \\\n",
       "0                                 1                 0          0         0   \n",
       "1                                 1                 0          1         1   \n",
       "2                                 1                 0          1         1   \n",
       "3                                 1                 0          1         1   \n",
       "4                                 0                 0          0         1   \n",
       "\n",
       "   abnormal involuntary movements  chest tightness  ...  \\\n",
       "0                               0                1  ...   \n",
       "1                               0                0  ...   \n",
       "2                               0                0  ...   \n",
       "3                               1                0  ...   \n",
       "4                               1                1  ...   \n",
       "\n",
       "   stuttering or stammering  problems with orgasm  nose deformity  \\\n",
       "0                         0                     0               0   \n",
       "1                         0                     0               0   \n",
       "2                         0                     0               0   \n",
       "3                         0                     0               0   \n",
       "4                         0                     0               0   \n",
       "\n",
       "   lump over jaw  sore in nose  hip weakness  back swelling  \\\n",
       "0              0             0             0              0   \n",
       "1              0             0             0              0   \n",
       "2              0             0             0              0   \n",
       "3              0             0             0              0   \n",
       "4              0             0             0              0   \n",
       "\n",
       "   ankle stiffness or tightness  ankle weakness  neck weakness  \n",
       "0                             0               0              0  \n",
       "1                             0               0              0  \n",
       "2                             0               0              0  \n",
       "3                             0               0              0  \n",
       "4                             0               0              0  \n",
       "\n",
       "[5 rows x 378 columns]"
      ]
     },
     "execution_count": 12,
     "metadata": {},
     "output_type": "execute_result"
    }
   ],
   "source": [
    "df.head()"
   ]
  },
  {
   "cell_type": "code",
   "execution_count": 13,
   "id": "6773792a-9363-45e3-8fe7-b6b86dbd0131",
   "metadata": {
    "scrolled": true
   },
   "outputs": [
    {
     "data": {
      "text/plain": [
       "773"
      ]
     },
     "execution_count": 13,
     "metadata": {},
     "output_type": "execute_result"
    }
   ],
   "source": [
    "unique_diseases_count = df['diseases'].nunique()\n",
    "unique_diseases_count\n"
   ]
  },
  {
   "cell_type": "code",
   "execution_count": 14,
   "id": "fb3c7ac2-6448-4e90-ac11-0ca28dcec4d6",
   "metadata": {},
   "outputs": [
    {
     "data": {
      "text/plain": [
       "378"
      ]
     },
     "execution_count": 14,
     "metadata": {},
     "output_type": "execute_result"
    }
   ],
   "source": [
    "columns = df.columns.nunique()\n",
    "columns"
   ]
  },
  {
   "cell_type": "code",
   "execution_count": 15,
   "id": "921a393d-4ed4-4013-80cb-ecff021d1d9c",
   "metadata": {},
   "outputs": [
    {
     "data": {
      "text/plain": [
       "(246945, 378)"
      ]
     },
     "execution_count": 15,
     "metadata": {},
     "output_type": "execute_result"
    }
   ],
   "source": [
    "df.shape"
   ]
  },
  {
   "cell_type": "code",
   "execution_count": 16,
   "id": "6d35aba9-0d5c-48df-ad96-21f3cf1a5905",
   "metadata": {},
   "outputs": [
    {
     "name": "stdout",
     "output_type": "stream",
     "text": [
      "<class 'pandas.core.frame.DataFrame'>\n",
      "RangeIndex: 246945 entries, 0 to 246944\n",
      "Columns: 378 entries, diseases to neck weakness\n",
      "dtypes: int64(377), object(1)\n",
      "memory usage: 712.2+ MB\n"
     ]
    }
   ],
   "source": [
    "df.info()"
   ]
  },
  {
   "cell_type": "code",
   "execution_count": 17,
   "id": "754b0821-91a7-4a36-b04e-b926efb02c0a",
   "metadata": {},
   "outputs": [
    {
     "data": {
      "text/plain": [
       "Index(['diseases', 'anxiety and nervousness', 'depression',\n",
       "       'shortness of breath', 'depressive or psychotic symptoms',\n",
       "       'sharp chest pain', 'dizziness', 'insomnia',\n",
       "       'abnormal involuntary movements', 'chest tightness',\n",
       "       ...\n",
       "       'stuttering or stammering', 'problems with orgasm', 'nose deformity',\n",
       "       'lump over jaw', 'sore in nose', 'hip weakness', 'back swelling',\n",
       "       'ankle stiffness or tightness', 'ankle weakness', 'neck weakness'],\n",
       "      dtype='object', length=378)"
      ]
     },
     "execution_count": 17,
     "metadata": {},
     "output_type": "execute_result"
    }
   ],
   "source": [
    "df.columns"
   ]
  },
  {
   "cell_type": "markdown",
   "id": "d531a7ec-07fc-423b-afe3-8f4f49f87079",
   "metadata": {},
   "source": [
    "### eda ###"
   ]
  },
  {
   "cell_type": "code",
   "execution_count": 19,
   "id": "f4f5ea3e-6833-4907-94e6-8877a6ad4d50",
   "metadata": {},
   "outputs": [
    {
     "data": {
      "text/plain": [
       "0"
      ]
     },
     "execution_count": 19,
     "metadata": {},
     "output_type": "execute_result"
    }
   ],
   "source": [
    "df.isnull().any().sum()"
   ]
  },
  {
   "cell_type": "code",
   "execution_count": 20,
   "id": "76f2cb4d-5cce-4913-a93c-29415680b66d",
   "metadata": {},
   "outputs": [],
   "source": [
    "#no null values"
   ]
  },
  {
   "cell_type": "code",
   "execution_count": 21,
   "id": "0122c9ab-46aa-4598-bd76-f3fdb7a5f9a6",
   "metadata": {},
   "outputs": [],
   "source": [
    "X = df.drop(columns=['diseases'])\n",
    "Y = df['diseases']\n",
    "X_train, X_test, Y_train, Y_test = train_test_split(X, Y, test_size=0.2, random_state=42)\n"
   ]
  },
  {
   "cell_type": "code",
   "execution_count": 22,
   "id": "e9dabee5-2a53-4b05-99ad-73ac92c7d5e6",
   "metadata": {},
   "outputs": [
    {
     "data": {
      "text/plain": [
       "(197556, 377)"
      ]
     },
     "execution_count": 22,
     "metadata": {},
     "output_type": "execute_result"
    }
   ],
   "source": [
    "X_train.shape"
   ]
  },
  {
   "cell_type": "code",
   "execution_count": 23,
   "id": "aec24a2d-0fa8-4953-a686-35767794ff73",
   "metadata": {},
   "outputs": [
    {
     "data": {
      "text/plain": [
       "(197556,)"
      ]
     },
     "execution_count": 23,
     "metadata": {},
     "output_type": "execute_result"
    }
   ],
   "source": [
    "Y_train.shape"
   ]
  },
  {
   "cell_type": "code",
   "execution_count": 25,
   "id": "ad8ade72-057e-4302-95b7-287c2f0e0968",
   "metadata": {},
   "outputs": [
    {
     "data": {
      "text/plain": [
       "(49389, 377)"
      ]
     },
     "execution_count": 25,
     "metadata": {},
     "output_type": "execute_result"
    }
   ],
   "source": [
    "X_test.shape"
   ]
  },
  {
   "cell_type": "code",
   "execution_count": 26,
   "id": "a713ab76-9806-464e-aa57-9616174ae1f9",
   "metadata": {},
   "outputs": [
    {
     "data": {
      "text/plain": [
       "(49389,)"
      ]
     },
     "execution_count": 26,
     "metadata": {},
     "output_type": "execute_result"
    }
   ],
   "source": [
    "Y_test.shape"
   ]
  },
  {
   "cell_type": "code",
   "execution_count": 27,
   "id": "440af21c-8172-4232-92f9-26a1f385b55c",
   "metadata": {},
   "outputs": [],
   "source": [
    "model = DecisionTreeClassifier(random_state=42)\n",
    "\n",
    "model = model.fit(X_train, Y_train)\n"
   ]
  },
  {
   "cell_type": "code",
   "execution_count": 28,
   "id": "ae51c285-4a2e-4394-bceb-46bbe51d426d",
   "metadata": {},
   "outputs": [
    {
     "data": {
      "text/plain": [
       "{'ccp_alpha': 0.0,\n",
       " 'class_weight': None,\n",
       " 'criterion': 'gini',\n",
       " 'max_depth': None,\n",
       " 'max_features': None,\n",
       " 'max_leaf_nodes': None,\n",
       " 'min_impurity_decrease': 0.0,\n",
       " 'min_samples_leaf': 1,\n",
       " 'min_samples_split': 2,\n",
       " 'min_weight_fraction_leaf': 0.0,\n",
       " 'monotonic_cst': None,\n",
       " 'random_state': 42,\n",
       " 'splitter': 'best'}"
      ]
     },
     "execution_count": 28,
     "metadata": {},
     "output_type": "execute_result"
    }
   ],
   "source": [
    "model.get_params()"
   ]
  },
  {
   "cell_type": "code",
   "execution_count": 29,
   "id": "68540640-9f15-4b0a-8d4d-e4ce68359675",
   "metadata": {},
   "outputs": [
    {
     "data": {
      "text/plain": [
       "array(['chronic glaucoma', 'torticollis', 'schizophrenia', ...,\n",
       "       'urethral disorder', 'heart failure', 'cardiac arrest'],\n",
       "      dtype=object)"
      ]
     },
     "execution_count": 29,
     "metadata": {},
     "output_type": "execute_result"
    }
   ],
   "source": [
    "# Making dem predictions\n",
    "Y_pred = model.predict(X_test)\n",
    "\n",
    "Y_pred\n"
   ]
  },
  {
   "cell_type": "code",
   "execution_count": 30,
   "id": "fc1a1d8c-2045-4181-ae8e-0ab5e940de3f",
   "metadata": {},
   "outputs": [
    {
     "data": {
      "text/plain": [
       "0.8143716212112009"
      ]
     },
     "execution_count": 30,
     "metadata": {},
     "output_type": "execute_result"
    }
   ],
   "source": [
    "accuracy_score(Y_test, Y_pred)"
   ]
  },
  {
   "cell_type": "code",
   "execution_count": 31,
   "id": "97b4d4c9-6fec-42ee-a448-4426949ad520",
   "metadata": {},
   "outputs": [
    {
     "data": {
      "text/plain": [
       "0.8143716212112009"
      ]
     },
     "execution_count": 31,
     "metadata": {},
     "output_type": "execute_result"
    }
   ],
   "source": [
    "precision_score(Y_test, Y_pred, average='micro')"
   ]
  },
  {
   "cell_type": "code",
   "execution_count": 32,
   "id": "935439ae-5e57-4356-be2c-bac36ab6dcc6",
   "metadata": {},
   "outputs": [],
   "source": [
    "symptoms_list = [\n",
    "    'anxiety and nervousness', 'depression', 'shortness of breath',\n",
    "    'depressive or psychotic symptoms', 'sharp chest pain', \n",
    "    'dizziness', 'insomnia', 'abnormal involuntary movements', \n",
    "    'chest tightness', 'palpitations', 'irregular heartbeat', \n",
    "    'breathing fast', 'hoarse voice', 'sore throat', \n",
    "    'difficulty speaking', 'cough', 'nasal congestion', \n",
    "    'throat swelling', 'diminished hearing', 'lump in throat', \n",
    "    'throat feels tight', 'difficulty in swallowing', 'skin swelling', \n",
    "    'retention of urine', 'groin mass', 'leg pain', \n",
    "    'hip pain', 'suprapubic pain', 'blood in stool', \n",
    "    'lack of growth', 'emotional symptoms', 'elbow weakness', \n",
    "    'back weakness', 'pus in sputum', 'symptoms of the scrotum and testes', \n",
    "    'swelling of scrotum', 'pain in testicles', 'flatulence', \n",
    "    'pus draining from ear', 'jaundice', 'mass in scrotum', \n",
    "    'white discharge from eye', 'irritable infant', 'abusing alcohol', \n",
    "    'fainting', 'hostile behavior', 'drug abuse', \n",
    "    'sharp abdominal pain', 'feeling ill', 'vomiting', \n",
    "    'headache', 'nausea', 'diarrhea', 'vaginal itching', \n",
    "    'vaginal dryness', 'painful urination', 'involuntary urination', \n",
    "    'pain during intercourse', 'frequent urination', \n",
    "    'lower abdominal pain', 'vaginal discharge', 'blood in urine', \n",
    "    'hot flashes', 'intermenstrual bleeding', 'hand or finger pain', \n",
    "    'wrist pain', 'hand or finger swelling', 'arm pain', \n",
    "    'wrist swelling', 'arm stiffness or tightness', 'arm swelling', \n",
    "    'hand or finger stiffness or tightness', 'wrist stiffness or tightness', \n",
    "    'lip swelling', 'toothache', 'abnormal appearing skin', \n",
    "    'skin lesion', 'acne or pimples', 'dry lips', \n",
    "    'facial pain', 'mouth ulcer', 'skin growth', \n",
    "    'eye deviation', 'diminished vision', 'double vision', \n",
    "    'cross-eyed', 'symptoms of eye', 'pain in eye', \n",
    "    'eye moves abnormally', 'abnormal movement of eyelid', \n",
    "    'foreign body sensation in eye', 'irregular appearing scalp', \n",
    "    'swollen lymph nodes', 'back pain', 'neck pain', \n",
    "    'low back pain', 'pain of the anus', 'pain during pregnancy', \n",
    "    'pelvic pain', 'impotence', 'infant spitting up', \n",
    "    'vomiting blood', 'regurgitation', 'burning abdominal pain', \n",
    "    'restlessness', 'symptoms of infants', 'wheezing', \n",
    "    'peripheral edema', 'neck mass', 'ear pain', \n",
    "    'jaw swelling', 'mouth dryness', 'neck swelling', \n",
    "    'knee pain', 'foot or toe pain', 'bowlegged or knock-kneed', \n",
    "    'ankle pain', 'bones are painful', 'knee weakness', \n",
    "    'elbow pain', 'knee swelling', 'skin moles', \n",
    "    'knee lump or mass', 'weight gain', 'problems with movement', \n",
    "    'knee stiffness or tightness', 'leg swelling', 'foot or toe swelling', \n",
    "    'heartburn', 'smoking problems', 'muscle pain', \n",
    "    'infant feeding problem', 'recent weight loss', \n",
    "    'problems with shape or size of breast', 'underweight', \n",
    "    'difficulty eating', 'scanty menstrual flow', 'vaginal pain', \n",
    "    'vaginal redness', 'vulvar irritation', 'weakness', \n",
    "    'decreased heart rate', 'increased heart rate', \n",
    "    'bleeding or discharge from nipple', 'ringing in ear', \n",
    "    'plugged feeling in ear', 'itchy ear(s)', 'frontal headache', \n",
    "    'fluid in ear', 'neck stiffness or tightness', \n",
    "    'spots or clouds in vision', 'eye redness', 'lacrimation', \n",
    "    'itchiness of eye', 'blindness', 'eye burns or stings', \n",
    "    'itchy eyelid', 'feeling cold', 'decreased appetite', \n",
    "    'excessive appetite', 'excessive anger', 'loss of sensation', \n",
    "    'focal weakness', 'slurring words', 'symptoms of the face', \n",
    "    'disturbance of memory', 'paresthesia', 'side pain', \n",
    "    'fever', 'shoulder pain', 'shoulder stiffness or tightness', \n",
    "    'shoulder weakness', 'arm cramps or spasms', 'shoulder swelling', \n",
    "    'tongue lesions', 'leg cramps or spasms', \n",
    "    'abnormal appearing tongue', 'ache all over', \n",
    "    'lower body pain', 'problems during pregnancy', \n",
    "    'spotting or bleeding during pregnancy', 'cramps and spasms', \n",
    "    'upper abdominal pain', 'stomach bloating', \n",
    "    'changes in stool appearance', 'unusual color or odor to urine', \n",
    "    'kidney mass', 'swollen abdomen', 'symptoms of prostate', \n",
    "    'leg stiffness or tightness', 'difficulty breathing', \n",
    "    'rib pain', 'joint pain', 'muscle stiffness or tightness', \n",
    "    'pallor', 'hand or finger lump or mass', 'chills', \n",
    "    'groin pain', 'fatigue', 'abdominal distention', \n",
    "    'regurgitation.1', 'symptoms of the kidneys', \n",
    "    'melena', 'flushing', 'coughing up sputum', \n",
    "    'seizures', 'delusions or hallucinations', \n",
    "    'shoulder cramps or spasms', 'joint stiffness or tightness', \n",
    "    'pain or soreness of breast', 'excessive urination at night', \n",
    "    'bleeding from eye', 'rectal bleeding', 'constipation', \n",
    "    'temper problems', 'coryza', 'wrist weakness', \n",
    "    'eye strain', 'hemoptysis', 'lymphedema', \n",
    "    'skin on leg or foot looks infected', 'allergic reaction', \n",
    "    'congestion in chest', 'muscle swelling', 'pus in urine', \n",
    "    'abnormal size or shape of ear', 'low back weakness', \n",
    "    'sleepiness', 'apnea', 'abnormal breathing sounds', \n",
    "    'excessive growth', 'elbow cramps or spasms', \n",
    "    'feeling hot and cold', 'blood clots during menstrual periods', \n",
    "    'absence of menstruation', 'pulling at ears', 'gum pain', \n",
    "    'redness in ear', 'fluid retention', 'flu-like syndrome', \n",
    "    'sinus congestion', 'painful sinuses', 'fears and phobias', \n",
    "    'recent pregnancy', 'uterine contractions', \n",
    "    'burning chest pain', 'back cramps or spasms', \n",
    "    'stiffness all over', 'muscle cramps, contractures, or spasms', \n",
    "    'low back cramps or spasms', 'back mass or lump', \n",
    "    'nosebleed', 'long menstrual periods', 'heavy menstrual flow', \n",
    "    'unpredictable menstruation', 'painful menstruation', \n",
    "    'infertility', 'frequent menstruation', 'sweating', \n",
    "    'mass on eyelid', 'swollen eye', 'eyelid swelling', \n",
    "    'eyelid lesion or rash', 'unwanted hair', \n",
    "    'symptoms of bladder', 'irregular appearing nails', \n",
    "    'itching of skin', 'hurts to breath', 'nailbiting', \n",
    "    'skin dryness, peeling, scaliness, or roughness', \n",
    "    'skin on arm or hand looks infected', 'skin irritation', \n",
    "    'itchy scalp', 'hip swelling', 'incontinence of stool', \n",
    "    'foot or toe cramps or spasms', 'warts', 'bumps on penis', \n",
    "    'too little hair', 'foot or toe lump or mass', \n",
    "    'skin rash', 'mass or swelling around the anus', \n",
    "    'low back swelling', 'ankle swelling', 'hip lump or mass', \n",
    "    'drainage in throat', 'dry or flaky scalp', \n",
    "    'premenstrual tension or irritability', 'feeling hot', \n",
    "    'feet turned in', 'foot or toe stiffness or tightness', \n",
    "    'pelvic pressure', 'elbow swelling', 'elbow stiffness or tightness', \n",
    "    'early or late onset of menopause', 'mass on ear', \n",
    "    'bleeding from ear', 'hand or finger weakness', \n",
    "    'low self-esteem', 'throat irritation', 'itching of the anus', \n",
    "    'swollen or red tonsils', 'irregular belly button', \n",
    "    'swollen tongue', 'lip sore', 'vulvar sore', \n",
    "    'hip stiffness or tightness', 'mouth pain', 'arm weakness', \n",
    "    'leg lump or mass', 'disturbance of smell or taste', \n",
    "    'discharge in stools', 'penis pain',     'loss of sex drive', 'obsessions and compulsions', \n",
    "    'antisocial behavior', 'neck cramps or spasms', \n",
    "    'pupils unequal', 'poor circulation', 'thirst', \n",
    "    'sleepwalking', 'skin oiliness', 'sneezing', \n",
    "    'bladder mass', 'knee cramps or spasms', \n",
    "    'premature ejaculation', 'leg weakness', \n",
    "    'posture problems', 'bleeding in mouth', \n",
    "    'tongue bleeding', 'change in skin mole size or color', \n",
    "    'penis redness', 'penile discharge', \n",
    "    'shoulder lump or mass', 'polyuria', 'cloudy eye', \n",
    "    'hysterical behavior', 'arm lump or mass', \n",
    "    'nightmares', 'bleeding gums', 'pain in gums', \n",
    "    'bedwetting', 'diaper rash', 'lump or mass of breast', \n",
    "    'vaginal bleeding after menopause', 'infrequent menstruation', \n",
    "    'mass on vulva', 'jaw pain', 'itching of scrotum', \n",
    "    'postpartum problems of the breast', 'eyelid retracted', \n",
    "    'hesitancy', 'elbow lump or mass', 'muscle weakness', \n",
    "    'throat redness', 'joint swelling', 'tongue pain', \n",
    "    'redness in or around nose', 'wrinkles on skin', \n",
    "    'foot or toe weakness', 'hand or finger cramps or spasms', \n",
    "    'back stiffness or tightness', 'wrist lump or mass', \n",
    "    'skin pain', 'low back stiffness or tightness', \n",
    "    'low urine output', 'skin on head or neck looks infected', \n",
    "    'stuttering or stammering', 'problems with orgasm', \n",
    "    'nose deformity', 'lump over jaw', 'sore in nose', \n",
    "    'hip weakness', 'back swelling', 'ankle stiffness or tightness', \n",
    "    'ankle weakness', 'neck weakness'\n",
    "]\n",
    "\n"
   ]
  },
  {
   "cell_type": "code",
   "execution_count": 33,
   "id": "9eee55a4-caa6-40e5-acbf-3e3b0bb94095",
   "metadata": {},
   "outputs": [],
   "source": [
    "def predict_disease(user_symptoms):\n",
    "    feature_vector = np.zeros(len(symptoms_list))\n",
    "\n",
    "   \n",
    "    for symptom in user_symptoms:\n",
    "        if symptom in symptoms_list:\n",
    "            feature_vector[symptoms_list.index(symptom)] = 1\n",
    "\n",
    "\n",
    "    prediction = model.predict([feature_vector])\n",
    "    return prediction[0]"
   ]
  },
  {
   "cell_type": "code",
   "execution_count": 34,
   "id": "d3ebefd0-d4c5-4e2b-8544-10b09e458414",
   "metadata": {},
   "outputs": [],
   "source": [
    "user_symptoms = [\n",
    "'anxiety and nervousness', 'depression', 'shortness of breath',\n",
    "    'depressive or psychotic symptoms', 'sharp chest pain'\n",
    "]"
   ]
  },
  {
   "cell_type": "code",
   "execution_count": 35,
   "id": "82c22260-0daf-4e4a-b977-2dc0157bcc15",
   "metadata": {},
   "outputs": [
    {
     "name": "stdout",
     "output_type": "stream",
     "text": [
      "Predicted Disease: anxiety\n"
     ]
    },
    {
     "name": "stderr",
     "output_type": "stream",
     "text": [
      "C:\\Users\\shres\\anaconda3\\Lib\\site-packages\\sklearn\\base.py:493: UserWarning: X does not have valid feature names, but DecisionTreeClassifier was fitted with feature names\n",
      "  warnings.warn(\n"
     ]
    }
   ],
   "source": [
    "predicted_disease = predict_disease(user_symptoms)\n",
    "print(f\"Predicted Disease: {predicted_disease}\")"
   ]
  },
  {
   "cell_type": "markdown",
   "id": "668256b1-16af-466a-a9fe-57fe6945e89d",
   "metadata": {},
   "source": [
    "### naive bayes classifier"
   ]
  },
  {
   "cell_type": "code",
   "execution_count": 37,
   "id": "de86ceb2-eb64-4ff7-a160-eac93aad90f1",
   "metadata": {},
   "outputs": [],
   "source": [
    "XX=  df.drop(columns =['diseases'])\n",
    "YY = df['diseases']\n",
    "XX_train, XX_test, YY_train, YY_test = train_test_split(X, Y, test_size=0.2, random_state=44)\n"
   ]
  },
  {
   "cell_type": "code",
   "execution_count": 38,
   "id": "d8960497-d0bc-44ea-bb09-41a2db7d15fe",
   "metadata": {},
   "outputs": [
    {
     "data": {
      "text/html": [
       "<style>#sk-container-id-1 {\n",
       "  /* Definition of color scheme common for light and dark mode */\n",
       "  --sklearn-color-text: black;\n",
       "  --sklearn-color-line: gray;\n",
       "  /* Definition of color scheme for unfitted estimators */\n",
       "  --sklearn-color-unfitted-level-0: #fff5e6;\n",
       "  --sklearn-color-unfitted-level-1: #f6e4d2;\n",
       "  --sklearn-color-unfitted-level-2: #ffe0b3;\n",
       "  --sklearn-color-unfitted-level-3: chocolate;\n",
       "  /* Definition of color scheme for fitted estimators */\n",
       "  --sklearn-color-fitted-level-0: #f0f8ff;\n",
       "  --sklearn-color-fitted-level-1: #d4ebff;\n",
       "  --sklearn-color-fitted-level-2: #b3dbfd;\n",
       "  --sklearn-color-fitted-level-3: cornflowerblue;\n",
       "\n",
       "  /* Specific color for light theme */\n",
       "  --sklearn-color-text-on-default-background: var(--sg-text-color, var(--theme-code-foreground, var(--jp-content-font-color1, black)));\n",
       "  --sklearn-color-background: var(--sg-background-color, var(--theme-background, var(--jp-layout-color0, white)));\n",
       "  --sklearn-color-border-box: var(--sg-text-color, var(--theme-code-foreground, var(--jp-content-font-color1, black)));\n",
       "  --sklearn-color-icon: #696969;\n",
       "\n",
       "  @media (prefers-color-scheme: dark) {\n",
       "    /* Redefinition of color scheme for dark theme */\n",
       "    --sklearn-color-text-on-default-background: var(--sg-text-color, var(--theme-code-foreground, var(--jp-content-font-color1, white)));\n",
       "    --sklearn-color-background: var(--sg-background-color, var(--theme-background, var(--jp-layout-color0, #111)));\n",
       "    --sklearn-color-border-box: var(--sg-text-color, var(--theme-code-foreground, var(--jp-content-font-color1, white)));\n",
       "    --sklearn-color-icon: #878787;\n",
       "  }\n",
       "}\n",
       "\n",
       "#sk-container-id-1 {\n",
       "  color: var(--sklearn-color-text);\n",
       "}\n",
       "\n",
       "#sk-container-id-1 pre {\n",
       "  padding: 0;\n",
       "}\n",
       "\n",
       "#sk-container-id-1 input.sk-hidden--visually {\n",
       "  border: 0;\n",
       "  clip: rect(1px 1px 1px 1px);\n",
       "  clip: rect(1px, 1px, 1px, 1px);\n",
       "  height: 1px;\n",
       "  margin: -1px;\n",
       "  overflow: hidden;\n",
       "  padding: 0;\n",
       "  position: absolute;\n",
       "  width: 1px;\n",
       "}\n",
       "\n",
       "#sk-container-id-1 div.sk-dashed-wrapped {\n",
       "  border: 1px dashed var(--sklearn-color-line);\n",
       "  margin: 0 0.4em 0.5em 0.4em;\n",
       "  box-sizing: border-box;\n",
       "  padding-bottom: 0.4em;\n",
       "  background-color: var(--sklearn-color-background);\n",
       "}\n",
       "\n",
       "#sk-container-id-1 div.sk-container {\n",
       "  /* jupyter's `normalize.less` sets `[hidden] { display: none; }`\n",
       "     but bootstrap.min.css set `[hidden] { display: none !important; }`\n",
       "     so we also need the `!important` here to be able to override the\n",
       "     default hidden behavior on the sphinx rendered scikit-learn.org.\n",
       "     See: https://github.com/scikit-learn/scikit-learn/issues/21755 */\n",
       "  display: inline-block !important;\n",
       "  position: relative;\n",
       "}\n",
       "\n",
       "#sk-container-id-1 div.sk-text-repr-fallback {\n",
       "  display: none;\n",
       "}\n",
       "\n",
       "div.sk-parallel-item,\n",
       "div.sk-serial,\n",
       "div.sk-item {\n",
       "  /* draw centered vertical line to link estimators */\n",
       "  background-image: linear-gradient(var(--sklearn-color-text-on-default-background), var(--sklearn-color-text-on-default-background));\n",
       "  background-size: 2px 100%;\n",
       "  background-repeat: no-repeat;\n",
       "  background-position: center center;\n",
       "}\n",
       "\n",
       "/* Parallel-specific style estimator block */\n",
       "\n",
       "#sk-container-id-1 div.sk-parallel-item::after {\n",
       "  content: \"\";\n",
       "  width: 100%;\n",
       "  border-bottom: 2px solid var(--sklearn-color-text-on-default-background);\n",
       "  flex-grow: 1;\n",
       "}\n",
       "\n",
       "#sk-container-id-1 div.sk-parallel {\n",
       "  display: flex;\n",
       "  align-items: stretch;\n",
       "  justify-content: center;\n",
       "  background-color: var(--sklearn-color-background);\n",
       "  position: relative;\n",
       "}\n",
       "\n",
       "#sk-container-id-1 div.sk-parallel-item {\n",
       "  display: flex;\n",
       "  flex-direction: column;\n",
       "}\n",
       "\n",
       "#sk-container-id-1 div.sk-parallel-item:first-child::after {\n",
       "  align-self: flex-end;\n",
       "  width: 50%;\n",
       "}\n",
       "\n",
       "#sk-container-id-1 div.sk-parallel-item:last-child::after {\n",
       "  align-self: flex-start;\n",
       "  width: 50%;\n",
       "}\n",
       "\n",
       "#sk-container-id-1 div.sk-parallel-item:only-child::after {\n",
       "  width: 0;\n",
       "}\n",
       "\n",
       "/* Serial-specific style estimator block */\n",
       "\n",
       "#sk-container-id-1 div.sk-serial {\n",
       "  display: flex;\n",
       "  flex-direction: column;\n",
       "  align-items: center;\n",
       "  background-color: var(--sklearn-color-background);\n",
       "  padding-right: 1em;\n",
       "  padding-left: 1em;\n",
       "}\n",
       "\n",
       "\n",
       "/* Toggleable style: style used for estimator/Pipeline/ColumnTransformer box that is\n",
       "clickable and can be expanded/collapsed.\n",
       "- Pipeline and ColumnTransformer use this feature and define the default style\n",
       "- Estimators will overwrite some part of the style using the `sk-estimator` class\n",
       "*/\n",
       "\n",
       "/* Pipeline and ColumnTransformer style (default) */\n",
       "\n",
       "#sk-container-id-1 div.sk-toggleable {\n",
       "  /* Default theme specific background. It is overwritten whether we have a\n",
       "  specific estimator or a Pipeline/ColumnTransformer */\n",
       "  background-color: var(--sklearn-color-background);\n",
       "}\n",
       "\n",
       "/* Toggleable label */\n",
       "#sk-container-id-1 label.sk-toggleable__label {\n",
       "  cursor: pointer;\n",
       "  display: block;\n",
       "  width: 100%;\n",
       "  margin-bottom: 0;\n",
       "  padding: 0.5em;\n",
       "  box-sizing: border-box;\n",
       "  text-align: center;\n",
       "}\n",
       "\n",
       "#sk-container-id-1 label.sk-toggleable__label-arrow:before {\n",
       "  /* Arrow on the left of the label */\n",
       "  content: \"▸\";\n",
       "  float: left;\n",
       "  margin-right: 0.25em;\n",
       "  color: var(--sklearn-color-icon);\n",
       "}\n",
       "\n",
       "#sk-container-id-1 label.sk-toggleable__label-arrow:hover:before {\n",
       "  color: var(--sklearn-color-text);\n",
       "}\n",
       "\n",
       "/* Toggleable content - dropdown */\n",
       "\n",
       "#sk-container-id-1 div.sk-toggleable__content {\n",
       "  max-height: 0;\n",
       "  max-width: 0;\n",
       "  overflow: hidden;\n",
       "  text-align: left;\n",
       "  /* unfitted */\n",
       "  background-color: var(--sklearn-color-unfitted-level-0);\n",
       "}\n",
       "\n",
       "#sk-container-id-1 div.sk-toggleable__content.fitted {\n",
       "  /* fitted */\n",
       "  background-color: var(--sklearn-color-fitted-level-0);\n",
       "}\n",
       "\n",
       "#sk-container-id-1 div.sk-toggleable__content pre {\n",
       "  margin: 0.2em;\n",
       "  border-radius: 0.25em;\n",
       "  color: var(--sklearn-color-text);\n",
       "  /* unfitted */\n",
       "  background-color: var(--sklearn-color-unfitted-level-0);\n",
       "}\n",
       "\n",
       "#sk-container-id-1 div.sk-toggleable__content.fitted pre {\n",
       "  /* unfitted */\n",
       "  background-color: var(--sklearn-color-fitted-level-0);\n",
       "}\n",
       "\n",
       "#sk-container-id-1 input.sk-toggleable__control:checked~div.sk-toggleable__content {\n",
       "  /* Expand drop-down */\n",
       "  max-height: 200px;\n",
       "  max-width: 100%;\n",
       "  overflow: auto;\n",
       "}\n",
       "\n",
       "#sk-container-id-1 input.sk-toggleable__control:checked~label.sk-toggleable__label-arrow:before {\n",
       "  content: \"▾\";\n",
       "}\n",
       "\n",
       "/* Pipeline/ColumnTransformer-specific style */\n",
       "\n",
       "#sk-container-id-1 div.sk-label input.sk-toggleable__control:checked~label.sk-toggleable__label {\n",
       "  color: var(--sklearn-color-text);\n",
       "  background-color: var(--sklearn-color-unfitted-level-2);\n",
       "}\n",
       "\n",
       "#sk-container-id-1 div.sk-label.fitted input.sk-toggleable__control:checked~label.sk-toggleable__label {\n",
       "  background-color: var(--sklearn-color-fitted-level-2);\n",
       "}\n",
       "\n",
       "/* Estimator-specific style */\n",
       "\n",
       "/* Colorize estimator box */\n",
       "#sk-container-id-1 div.sk-estimator input.sk-toggleable__control:checked~label.sk-toggleable__label {\n",
       "  /* unfitted */\n",
       "  background-color: var(--sklearn-color-unfitted-level-2);\n",
       "}\n",
       "\n",
       "#sk-container-id-1 div.sk-estimator.fitted input.sk-toggleable__control:checked~label.sk-toggleable__label {\n",
       "  /* fitted */\n",
       "  background-color: var(--sklearn-color-fitted-level-2);\n",
       "}\n",
       "\n",
       "#sk-container-id-1 div.sk-label label.sk-toggleable__label,\n",
       "#sk-container-id-1 div.sk-label label {\n",
       "  /* The background is the default theme color */\n",
       "  color: var(--sklearn-color-text-on-default-background);\n",
       "}\n",
       "\n",
       "/* On hover, darken the color of the background */\n",
       "#sk-container-id-1 div.sk-label:hover label.sk-toggleable__label {\n",
       "  color: var(--sklearn-color-text);\n",
       "  background-color: var(--sklearn-color-unfitted-level-2);\n",
       "}\n",
       "\n",
       "/* Label box, darken color on hover, fitted */\n",
       "#sk-container-id-1 div.sk-label.fitted:hover label.sk-toggleable__label.fitted {\n",
       "  color: var(--sklearn-color-text);\n",
       "  background-color: var(--sklearn-color-fitted-level-2);\n",
       "}\n",
       "\n",
       "/* Estimator label */\n",
       "\n",
       "#sk-container-id-1 div.sk-label label {\n",
       "  font-family: monospace;\n",
       "  font-weight: bold;\n",
       "  display: inline-block;\n",
       "  line-height: 1.2em;\n",
       "}\n",
       "\n",
       "#sk-container-id-1 div.sk-label-container {\n",
       "  text-align: center;\n",
       "}\n",
       "\n",
       "/* Estimator-specific */\n",
       "#sk-container-id-1 div.sk-estimator {\n",
       "  font-family: monospace;\n",
       "  border: 1px dotted var(--sklearn-color-border-box);\n",
       "  border-radius: 0.25em;\n",
       "  box-sizing: border-box;\n",
       "  margin-bottom: 0.5em;\n",
       "  /* unfitted */\n",
       "  background-color: var(--sklearn-color-unfitted-level-0);\n",
       "}\n",
       "\n",
       "#sk-container-id-1 div.sk-estimator.fitted {\n",
       "  /* fitted */\n",
       "  background-color: var(--sklearn-color-fitted-level-0);\n",
       "}\n",
       "\n",
       "/* on hover */\n",
       "#sk-container-id-1 div.sk-estimator:hover {\n",
       "  /* unfitted */\n",
       "  background-color: var(--sklearn-color-unfitted-level-2);\n",
       "}\n",
       "\n",
       "#sk-container-id-1 div.sk-estimator.fitted:hover {\n",
       "  /* fitted */\n",
       "  background-color: var(--sklearn-color-fitted-level-2);\n",
       "}\n",
       "\n",
       "/* Specification for estimator info (e.g. \"i\" and \"?\") */\n",
       "\n",
       "/* Common style for \"i\" and \"?\" */\n",
       "\n",
       ".sk-estimator-doc-link,\n",
       "a:link.sk-estimator-doc-link,\n",
       "a:visited.sk-estimator-doc-link {\n",
       "  float: right;\n",
       "  font-size: smaller;\n",
       "  line-height: 1em;\n",
       "  font-family: monospace;\n",
       "  background-color: var(--sklearn-color-background);\n",
       "  border-radius: 1em;\n",
       "  height: 1em;\n",
       "  width: 1em;\n",
       "  text-decoration: none !important;\n",
       "  margin-left: 1ex;\n",
       "  /* unfitted */\n",
       "  border: var(--sklearn-color-unfitted-level-1) 1pt solid;\n",
       "  color: var(--sklearn-color-unfitted-level-1);\n",
       "}\n",
       "\n",
       ".sk-estimator-doc-link.fitted,\n",
       "a:link.sk-estimator-doc-link.fitted,\n",
       "a:visited.sk-estimator-doc-link.fitted {\n",
       "  /* fitted */\n",
       "  border: var(--sklearn-color-fitted-level-1) 1pt solid;\n",
       "  color: var(--sklearn-color-fitted-level-1);\n",
       "}\n",
       "\n",
       "/* On hover */\n",
       "div.sk-estimator:hover .sk-estimator-doc-link:hover,\n",
       ".sk-estimator-doc-link:hover,\n",
       "div.sk-label-container:hover .sk-estimator-doc-link:hover,\n",
       ".sk-estimator-doc-link:hover {\n",
       "  /* unfitted */\n",
       "  background-color: var(--sklearn-color-unfitted-level-3);\n",
       "  color: var(--sklearn-color-background);\n",
       "  text-decoration: none;\n",
       "}\n",
       "\n",
       "div.sk-estimator.fitted:hover .sk-estimator-doc-link.fitted:hover,\n",
       ".sk-estimator-doc-link.fitted:hover,\n",
       "div.sk-label-container:hover .sk-estimator-doc-link.fitted:hover,\n",
       ".sk-estimator-doc-link.fitted:hover {\n",
       "  /* fitted */\n",
       "  background-color: var(--sklearn-color-fitted-level-3);\n",
       "  color: var(--sklearn-color-background);\n",
       "  text-decoration: none;\n",
       "}\n",
       "\n",
       "/* Span, style for the box shown on hovering the info icon */\n",
       ".sk-estimator-doc-link span {\n",
       "  display: none;\n",
       "  z-index: 9999;\n",
       "  position: relative;\n",
       "  font-weight: normal;\n",
       "  right: .2ex;\n",
       "  padding: .5ex;\n",
       "  margin: .5ex;\n",
       "  width: min-content;\n",
       "  min-width: 20ex;\n",
       "  max-width: 50ex;\n",
       "  color: var(--sklearn-color-text);\n",
       "  box-shadow: 2pt 2pt 4pt #999;\n",
       "  /* unfitted */\n",
       "  background: var(--sklearn-color-unfitted-level-0);\n",
       "  border: .5pt solid var(--sklearn-color-unfitted-level-3);\n",
       "}\n",
       "\n",
       ".sk-estimator-doc-link.fitted span {\n",
       "  /* fitted */\n",
       "  background: var(--sklearn-color-fitted-level-0);\n",
       "  border: var(--sklearn-color-fitted-level-3);\n",
       "}\n",
       "\n",
       ".sk-estimator-doc-link:hover span {\n",
       "  display: block;\n",
       "}\n",
       "\n",
       "/* \"?\"-specific style due to the `<a>` HTML tag */\n",
       "\n",
       "#sk-container-id-1 a.estimator_doc_link {\n",
       "  float: right;\n",
       "  font-size: 1rem;\n",
       "  line-height: 1em;\n",
       "  font-family: monospace;\n",
       "  background-color: var(--sklearn-color-background);\n",
       "  border-radius: 1rem;\n",
       "  height: 1rem;\n",
       "  width: 1rem;\n",
       "  text-decoration: none;\n",
       "  /* unfitted */\n",
       "  color: var(--sklearn-color-unfitted-level-1);\n",
       "  border: var(--sklearn-color-unfitted-level-1) 1pt solid;\n",
       "}\n",
       "\n",
       "#sk-container-id-1 a.estimator_doc_link.fitted {\n",
       "  /* fitted */\n",
       "  border: var(--sklearn-color-fitted-level-1) 1pt solid;\n",
       "  color: var(--sklearn-color-fitted-level-1);\n",
       "}\n",
       "\n",
       "/* On hover */\n",
       "#sk-container-id-1 a.estimator_doc_link:hover {\n",
       "  /* unfitted */\n",
       "  background-color: var(--sklearn-color-unfitted-level-3);\n",
       "  color: var(--sklearn-color-background);\n",
       "  text-decoration: none;\n",
       "}\n",
       "\n",
       "#sk-container-id-1 a.estimator_doc_link.fitted:hover {\n",
       "  /* fitted */\n",
       "  background-color: var(--sklearn-color-fitted-level-3);\n",
       "}\n",
       "</style><div id=\"sk-container-id-1\" class=\"sk-top-container\"><div class=\"sk-text-repr-fallback\"><pre>GaussianNB()</pre><b>In a Jupyter environment, please rerun this cell to show the HTML representation or trust the notebook. <br />On GitHub, the HTML representation is unable to render, please try loading this page with nbviewer.org.</b></div><div class=\"sk-container\" hidden><div class=\"sk-item\"><div class=\"sk-estimator fitted sk-toggleable\"><input class=\"sk-toggleable__control sk-hidden--visually\" id=\"sk-estimator-id-1\" type=\"checkbox\" checked><label for=\"sk-estimator-id-1\" class=\"sk-toggleable__label fitted sk-toggleable__label-arrow fitted\">&nbsp;&nbsp;GaussianNB<a class=\"sk-estimator-doc-link fitted\" rel=\"noreferrer\" target=\"_blank\" href=\"https://scikit-learn.org/1.4/modules/generated/sklearn.naive_bayes.GaussianNB.html\">?<span>Documentation for GaussianNB</span></a><span class=\"sk-estimator-doc-link fitted\">i<span>Fitted</span></span></label><div class=\"sk-toggleable__content fitted\"><pre>GaussianNB()</pre></div> </div></div></div></div>"
      ],
      "text/plain": [
       "GaussianNB()"
      ]
     },
     "execution_count": 38,
     "metadata": {},
     "output_type": "execute_result"
    }
   ],
   "source": [
    "model2 = GaussianNB()\n",
    "model2.fit(XX_train, YY_train)"
   ]
  },
  {
   "cell_type": "code",
   "execution_count": 39,
   "id": "abf159ad-a004-4707-b9dc-1c53c5246109",
   "metadata": {},
   "outputs": [
    {
     "data": {
      "text/plain": [
       "array(['conjunctivitis due to virus', 'fibromyalgia',\n",
       "       'ischemic heart disease', ..., 'ulcerative colitis',\n",
       "       'open wound of the mouth', 'diaper rash'], dtype='<U56')"
      ]
     },
     "execution_count": 39,
     "metadata": {},
     "output_type": "execute_result"
    }
   ],
   "source": [
    "YY_pred = model2.predict(XX_test)\n",
    "YY_pred"
   ]
  },
  {
   "cell_type": "code",
   "execution_count": 40,
   "id": "995d4d2b-6486-42ec-a877-e1f1b7aac546",
   "metadata": {},
   "outputs": [
    {
     "data": {
      "text/plain": [
       "0.8662455202575472"
      ]
     },
     "execution_count": 40,
     "metadata": {},
     "output_type": "execute_result"
    }
   ],
   "source": [
    "accuracy_score(YY_test, YY_pred)"
   ]
  },
  {
   "cell_type": "code",
   "execution_count": 41,
   "id": "5c76a76b-1d7b-479e-893a-a160055e6c83",
   "metadata": {},
   "outputs": [
    {
     "data": {
      "text/plain": [
       "0.8662455202575472"
      ]
     },
     "execution_count": 41,
     "metadata": {},
     "output_type": "execute_result"
    }
   ],
   "source": [
    "precision_score(YY_test, YY_pred, average='micro')\n"
   ]
  },
  {
   "cell_type": "code",
   "execution_count": 42,
   "id": "026d746a-e635-41bf-b9d2-18534275895a",
   "metadata": {},
   "outputs": [],
   "source": [
    "def predict_disease2(user_symptoms):\n",
    "    feature_vector = np.zeros(len(symptoms_list))\n",
    "\n",
    "   \n",
    "    for symptom in user_symptoms:\n",
    "        if symptom in symptoms_list:\n",
    "            feature_vector[symptoms_list.index(symptom)] = 1\n",
    "\n",
    "\n",
    "    prediction = model2.predict([feature_vector])\n",
    "    return prediction[0]"
   ]
  },
  {
   "cell_type": "code",
   "execution_count": 43,
   "id": "bc8f370c-5863-488a-a9ca-6e74baf9eeed",
   "metadata": {},
   "outputs": [],
   "source": [
    "user_symptoms = [\n",
    "'anxiety and nervousness', 'depression', 'shortness of breath',\n",
    "    'depressive or psychotic symptoms', 'sharp chest pain'\n",
    "]"
   ]
  },
  {
   "cell_type": "code",
   "execution_count": 44,
   "id": "fb7667ed-8bf7-4245-9009-dafc776bc954",
   "metadata": {},
   "outputs": [
    {
     "name": "stdout",
     "output_type": "stream",
     "text": [
      "Predicted Disease: acute stress reaction\n"
     ]
    },
    {
     "name": "stderr",
     "output_type": "stream",
     "text": [
      "C:\\Users\\shres\\anaconda3\\Lib\\site-packages\\sklearn\\base.py:493: UserWarning: X does not have valid feature names, but GaussianNB was fitted with feature names\n",
      "  warnings.warn(\n"
     ]
    }
   ],
   "source": [
    "predicted_disease2 = predict_disease2(user_symptoms)\n",
    "print(f\"Predicted Disease: {predicted_disease2}\")"
   ]
  }
 ],
 "metadata": {
  "kernelspec": {
   "display_name": "Python 3 (ipykernel)",
   "language": "python",
   "name": "python3"
  },
  "language_info": {
   "codemirror_mode": {
    "name": "ipython",
    "version": 3
   },
   "file_extension": ".py",
   "mimetype": "text/x-python",
   "name": "python",
   "nbconvert_exporter": "python",
   "pygments_lexer": "ipython3",
   "version": "3.12.4"
  }
 },
 "nbformat": 4,
 "nbformat_minor": 5
}
